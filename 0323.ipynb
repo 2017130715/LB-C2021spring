{
  "nbformat": 4,
  "nbformat_minor": 0,
  "metadata": {
    "colab": {
      "name": "0323.ipynb",
      "provenance": [],
      "collapsed_sections": [],
      "authorship_tag": "ABX9TyPCP3fqd5Chh1J9ph253gJN",
      "include_colab_link": true
    },
    "kernelspec": {
      "name": "python3",
      "display_name": "Python 3"
    }
  },
  "cells": [
    {
      "cell_type": "markdown",
      "metadata": {
        "id": "view-in-github",
        "colab_type": "text"
      },
      "source": [
        "<a href=\"https://colab.research.google.com/github/2017130715/LB-C2021spring/blob/main/0323.ipynb\" target=\"_parent\"><img src=\"https://colab.research.google.com/assets/colab-badge.svg\" alt=\"Open In Colab\"/></a>"
      ]
    },
    {
      "cell_type": "code",
      "metadata": {
        "colab": {
          "base_uri": "https://localhost:8080/"
        },
        "id": "81NvleY_xoGv",
        "outputId": "e8d233ec-e8e1-42cc-8496-4899378f9dfc"
      },
      "source": [
        "X = [1, 2, 3, 4, 5, 6, 7, 8, 9, 10]\n",
        "total = 0\n",
        "for i in X:\n",
        "  total += i\n",
        "print(total)\n",
        "print(total/len(X))\n",
        "print(X[3:6])"
      ],
      "execution_count": null,
      "outputs": [
        {
          "output_type": "stream",
          "text": [
            "55\n",
            "5.5\n",
            "[4, 5, 6]\n",
            "55\n"
          ],
          "name": "stdout"
        }
      ]
    },
    {
      "cell_type": "code",
      "metadata": {
        "colab": {
          "base_uri": "https://localhost:8080/"
        },
        "id": "TiACot5e0Hv5",
        "outputId": "ee7c9285-4196-4136-e5f4-dcc65194b18b"
      },
      "source": [
        "X = [1, 2, 3, 4, 5, 6, 7, 8, 9, 10]\n",
        "total = 0\n",
        "for i in X:\n",
        "  if 4 <= i < 7:\n",
        "    print(i)\n",
        "  total += i\n",
        "print('total =', total, 'mean =', total/len(X))"
      ],
      "execution_count": null,
      "outputs": [
        {
          "output_type": "stream",
          "text": [
            "4\n",
            "5\n",
            "6\n",
            "total = 55 mean = 5.5\n"
          ],
          "name": "stdout"
        }
      ]
    },
    {
      "cell_type": "code",
      "metadata": {
        "colab": {
          "base_uri": "https://localhost:8080/"
        },
        "id": "56Y2e2LRyVIx",
        "outputId": "1bde4524-cc1d-4ee1-d31d-38dd6b171726"
      },
      "source": [
        "Y = [1, 1.0, 1.6, 2, 5.1]\n",
        "for i in Y:\n",
        "  if type(i) == int:\n",
        "    print(i)\n",
        "for i in Y:\n",
        "  if type(i) == int:\n",
        "    print(float(i))\n",
        "  if type(i) == float:\n",
        "    print(int(i))\n",
        "Y = [1, 1.0, 1.6, 2, 5.1]\n",
        "total = 0\n",
        "for i in Y:\n",
        "  if type(i) == float:\n",
        "    total += i\n",
        "print(total)"
      ],
      "execution_count": null,
      "outputs": [
        {
          "output_type": "stream",
          "text": [
            "1\n",
            "2\n",
            "1.0\n",
            "1\n",
            "1\n",
            "2.0\n",
            "5\n",
            "7.699999999999999\n"
          ],
          "name": "stdout"
        }
      ]
    },
    {
      "cell_type": "code",
      "metadata": {
        "colab": {
          "base_uri": "https://localhost:8080/"
        },
        "id": "1kxe7ONf5ABC",
        "outputId": "df5a7ec5-7b33-4462-8059-de7d506fa225"
      },
      "source": [
        "Y = [1, 1.0, 1.6, 2, 5.1]\n",
        "for a in Y:\n",
        "  if type(a) == int:\n",
        "    print(float(a))\n",
        "  else:\n",
        "    print(int(a))"
      ],
      "execution_count": null,
      "outputs": [
        {
          "output_type": "stream",
          "text": [
            "1.0\n",
            "1\n",
            "1\n",
            "2.0\n",
            "5\n"
          ],
          "name": "stdout"
        }
      ]
    },
    {
      "cell_type": "code",
      "metadata": {
        "colab": {
          "base_uri": "https://localhost:8080/",
          "height": 35
        },
        "id": "HOLVA_nM-MWa",
        "outputId": "314dae74-a9cb-4a11-f554-11c6421e003b"
      },
      "source": [
        "b = 'pythona'\n",
        "a = 'python PYTHON\\tdata\\nDaTA'\n",
        "c = list(a)\n",
        "c[0]"
      ],
      "execution_count": null,
      "outputs": [
        {
          "output_type": "execute_result",
          "data": {
            "application/vnd.google.colaboratory.intrinsic+json": {
              "type": "string"
            },
            "text/plain": [
              "'p'"
            ]
          },
          "metadata": {
            "tags": []
          },
          "execution_count": 36
        }
      ]
    },
    {
      "cell_type": "code",
      "metadata": {
        "colab": {
          "base_uri": "https://localhost:8080/",
          "height": 35
        },
        "id": "x9FlRNE5AiFc",
        "outputId": "26419250-af66-4cc8-c8cc-cd2dc9cfc8bf"
      },
      "source": [
        "a = 'abcde'\n",
        "a[:20]"
      ],
      "execution_count": null,
      "outputs": [
        {
          "output_type": "execute_result",
          "data": {
            "application/vnd.google.colaboratory.intrinsic+json": {
              "type": "string"
            },
            "text/plain": [
              "'abcde'"
            ]
          },
          "metadata": {
            "tags": []
          },
          "execution_count": 39
        }
      ]
    },
    {
      "cell_type": "code",
      "metadata": {
        "colab": {
          "base_uri": "https://localhost:8080/",
          "height": 35
        },
        "id": "M9LZhUnSBZgr",
        "outputId": "95932175-1f0b-4f62-b2ee-46e01e90fc92"
      },
      "source": [
        "a = 'abcde'\n",
        "a[0:0]"
      ],
      "execution_count": null,
      "outputs": [
        {
          "output_type": "execute_result",
          "data": {
            "application/vnd.google.colaboratory.intrinsic+json": {
              "type": "string"
            },
            "text/plain": [
              "''"
            ]
          },
          "metadata": {
            "tags": []
          },
          "execution_count": 40
        }
      ]
    },
    {
      "cell_type": "code",
      "metadata": {
        "colab": {
          "base_uri": "https://localhost:8080/"
        },
        "id": "tVcxJbUiBb6L",
        "outputId": "4b5075dd-b880-4a5a-909c-4c183431b673"
      },
      "source": [
        "b = list(a)\n",
        "b[0:1]"
      ],
      "execution_count": null,
      "outputs": [
        {
          "output_type": "execute_result",
          "data": {
            "text/plain": [
              "['a']"
            ]
          },
          "metadata": {
            "tags": []
          },
          "execution_count": 41
        }
      ]
    },
    {
      "cell_type": "code",
      "metadata": {
        "id": "dp-_8lLMB4gi",
        "colab": {
          "base_uri": "https://localhost:8080/"
        },
        "outputId": "08e908a5-9ac4-4eb5-b0df-d3bccf507cec"
      },
      "source": [
        "b[0:0]"
      ],
      "execution_count": null,
      "outputs": [
        {
          "output_type": "execute_result",
          "data": {
            "text/plain": [
              "[]"
            ]
          },
          "metadata": {
            "tags": []
          },
          "execution_count": 42
        }
      ]
    }
  ]
}