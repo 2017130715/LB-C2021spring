{
  "nbformat": 4,
  "nbformat_minor": 0,
  "metadata": {
    "colab": {
      "name": "0520.ipynb",
      "provenance": [],
      "authorship_tag": "ABX9TyMEQCgYd/wPyQ5Lqk78aGqO",
      "include_colab_link": true
    },
    "kernelspec": {
      "name": "python3",
      "display_name": "Python 3"
    },
    "language_info": {
      "name": "python"
    }
  },
  "cells": [
    {
      "cell_type": "markdown",
      "metadata": {
        "id": "view-in-github",
        "colab_type": "text"
      },
      "source": [
        "<a href=\"https://colab.research.google.com/github/2017130715/LB-C2021spring/blob/main/0520.ipynb\" target=\"_parent\"><img src=\"https://colab.research.google.com/assets/colab-badge.svg\" alt=\"Open In Colab\"/></a>"
      ]
    },
    {
      "cell_type": "code",
      "metadata": {
        "colab": {
          "base_uri": "https://localhost:8080/",
          "height": 35
        },
        "id": "6fI9mRYbeqil",
        "outputId": "6c39fdc5-4221-47d2-b247-061e0c599439"
      },
      "source": [
        "# 연습문제 1\n",
        "s = \"What is your name?\"\n",
        "u = []\n",
        "for i in s.split():\n",
        "  j = list(i)\n",
        "  j.reverse()\n",
        "  u.append(''.join(j))\n",
        "' '.join(u)"
      ],
      "execution_count": 30,
      "outputs": [
        {
          "output_type": "execute_result",
          "data": {
            "application/vnd.google.colaboratory.intrinsic+json": {
              "type": "string"
            },
            "text/plain": [
              "'tahW si ruoy ?eman'"
            ]
          },
          "metadata": {
            "tags": []
          },
          "execution_count": 30
        }
      ]
    },
    {
      "cell_type": "code",
      "metadata": {
        "colab": {
          "base_uri": "https://localhost:8080/",
          "height": 35
        },
        "id": "VpB-EX35g_8m",
        "outputId": "4e0d2930-25bd-457f-9f52-8d04f6ee2e99"
      },
      "source": [
        "# 연습문제 1-2\n",
        "a = \"What is your name?\"\n",
        "b = []\n",
        "for i in s.split():\n",
        "  c = list(i)\n",
        "  d = ''\n",
        "  while c != []:\n",
        "    d += c.pop()\n",
        "  b.append(d)\n",
        "' '.join(b)"
      ],
      "execution_count": 31,
      "outputs": [
        {
          "output_type": "execute_result",
          "data": {
            "application/vnd.google.colaboratory.intrinsic+json": {
              "type": "string"
            },
            "text/plain": [
              "'tahW si ruoy ?eman'"
            ]
          },
          "metadata": {
            "tags": []
          },
          "execution_count": 31
        }
      ]
    },
    {
      "cell_type": "code",
      "metadata": {
        "colab": {
          "base_uri": "https://localhost:8080/"
        },
        "id": "YNY7e37jhxDO",
        "outputId": "20c3810f-e805-43c1-dbdb-bf3b4acee0a0"
      },
      "source": [
        "# 연습문제 2\n",
        "score = []\n",
        "for i in open('05_data01.txt').readlines():\n",
        "  j, k = i.split()\n",
        "  score.append([j, float(k)])\n",
        "score.sort(key = lambda x: x[1], reverse = True)\n",
        "for i, j in score:\n",
        "  print(i, '\\t', j)"
      ],
      "execution_count": 46,
      "outputs": [
        {
          "output_type": "stream",
          "text": [
            "Juan \t 19.12\n",
            "Johnny \t 8.65\n",
            "Joseph \t 8.45\n",
            "Aaron \t 8.31\n",
            "Aideen \t 8.05\n",
            "Zack \t 7.21\n",
            "Stacey \t 1.81\n"
          ],
          "name": "stdout"
        }
      ]
    },
    {
      "cell_type": "code",
      "metadata": {
        "colab": {
          "base_uri": "https://localhost:8080/"
        },
        "id": "90nqylv-n601",
        "outputId": "eb61e446-db89-49ca-8a66-8d852348ec70"
      },
      "source": [
        "# 연습문제 2-2\n",
        "scorea = []\n",
        "for a in open('05_data01.txt').readlines():\n",
        "  b, c = a.split()\n",
        "  scorea.append([b, c])\n",
        "scorea.sort(key = lambda x: x[1], reverse = True)\n",
        "for a, b in scorea:\n",
        "  print(a, '\\t', b)"
      ],
      "execution_count": 48,
      "outputs": [
        {
          "output_type": "stream",
          "text": [
            "Johnny \t 8.65\n",
            "Joseph \t 8.45\n",
            "Aaron \t 8.31\n",
            "Aideen \t 8.05\n",
            "Zack \t 7.21\n",
            "Juan \t 19.12\n",
            "Stacey \t 1.81\n"
          ],
          "name": "stdout"
        }
      ]
    },
    {
      "cell_type": "code",
      "metadata": {
        "colab": {
          "base_uri": "https://localhost:8080/"
        },
        "id": "WeGtJtP-o0OM",
        "outputId": "90ea529e-078b-4fd1-f082-2f2aa21a942d"
      },
      "source": [
        "#List 3 연습문제 1\n",
        "a = [2.4, 2, 4.5, 6.7, 9, 11]\n",
        "b = [float(x) if type(x) == int else int(x) for x in a]\n",
        "b"
      ],
      "execution_count": 56,
      "outputs": [
        {
          "output_type": "execute_result",
          "data": {
            "text/plain": [
              "[2, 2.0, 4, 6, 9.0, 11.0]"
            ]
          },
          "metadata": {
            "tags": []
          },
          "execution_count": 56
        }
      ]
    }
  ]
}