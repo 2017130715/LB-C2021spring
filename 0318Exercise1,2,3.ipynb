{
  "nbformat": 4,
  "nbformat_minor": 0,
  "metadata": {
    "colab": {
      "name": "0318Exercise1,2,3.ipynb",
      "provenance": [],
      "authorship_tag": "ABX9TyNW1dpCI594EFfzzZ8rwDYv",
      "include_colab_link": true
    },
    "kernelspec": {
      "name": "python3",
      "display_name": "Python 3"
    }
  },
  "cells": [
    {
      "cell_type": "markdown",
      "metadata": {
        "id": "view-in-github",
        "colab_type": "text"
      },
      "source": [
        "<a href=\"https://colab.research.google.com/github/2017130715/LB-C2021spring/blob/main/0318Exercise1%2C2%2C3.ipynb\" target=\"_parent\"><img src=\"https://colab.research.google.com/assets/colab-badge.svg\" alt=\"Open In Colab\"/></a>"
      ]
    },
    {
      "cell_type": "code",
      "metadata": {
        "id": "EsI_QARlHeLE"
      },
      "source": [
        "a = 0\r\n",
        "b = 0\r\n",
        "while a < 100:\r\n",
        "  a += 2\r\n",
        "  b += a\r\n",
        "  print(a, b)\r\n"
      ],
      "execution_count": null,
      "outputs": []
    },
    {
      "cell_type": "code",
      "metadata": {
        "id": "NwJo8r15Myuj"
      },
      "source": [
        "a = 0\r\n",
        "b = 0\r\n",
        "while a < 100:\r\n",
        "  a += 1\r\n",
        "  if a % 2 == 1: continue\r\n",
        "  b += a\r\n",
        "  print (a, b)"
      ],
      "execution_count": null,
      "outputs": []
    },
    {
      "cell_type": "code",
      "metadata": {
        "colab": {
          "base_uri": "https://localhost:8080/"
        },
        "id": "V_t1QyYMNlz6",
        "outputId": "44a728c1-b3eb-450a-ba72-caf3c79a0776"
      },
      "source": [
        "a = ['cat', 'tiger', 'elephant']\r\n",
        "for i in a:\r\n",
        "  if len(i)>3:\r\n",
        "    print(i)"
      ],
      "execution_count": 19,
      "outputs": [
        {
          "output_type": "stream",
          "text": [
            "tiger\n",
            "elephant\n"
          ],
          "name": "stdout"
        }
      ]
    },
    {
      "cell_type": "code",
      "metadata": {
        "colab": {
          "base_uri": "https://localhost:8080/"
        },
        "id": "h8Z0n6vKQDRa",
        "outputId": "f75d600f-90b3-4969-9181-3532bc5ad145"
      },
      "source": [
        "a = 0\r\n",
        "b = 0\r\n",
        "while a < 30:\r\n",
        "  a += 1\r\n",
        "  if 10<a<21: continue\r\n",
        "  b += a\r\n",
        "  print(a, b)"
      ],
      "execution_count": 32,
      "outputs": [
        {
          "output_type": "stream",
          "text": [
            "1 1\n",
            "2 3\n",
            "3 6\n",
            "4 10\n",
            "5 15\n",
            "6 21\n",
            "7 28\n",
            "8 36\n",
            "9 45\n",
            "10 55\n",
            "21 76\n",
            "22 98\n",
            "23 121\n",
            "24 145\n",
            "25 170\n",
            "26 196\n",
            "27 223\n",
            "28 251\n",
            "29 280\n",
            "30 310\n"
          ],
          "name": "stdout"
        }
      ]
    },
    {
      "cell_type": "code",
      "metadata": {
        "colab": {
          "base_uri": "https://localhost:8080/"
        },
        "id": "NyQisAU7SCGE",
        "outputId": "ca7328f7-a35b-4e5b-9387-53905cbb165b"
      },
      "source": [
        "n = 0\r\n",
        "total = 0\r\n",
        "while n < 30:\r\n",
        "  n += 1\r\n",
        "  if n<11 or n>20:\r\n",
        "    total += n\r\n",
        "    print(n, total)"
      ],
      "execution_count": 33,
      "outputs": [
        {
          "output_type": "stream",
          "text": [
            "1 1\n",
            "2 3\n",
            "3 6\n",
            "4 10\n",
            "5 15\n",
            "6 21\n",
            "7 28\n",
            "8 36\n",
            "9 45\n",
            "10 55\n",
            "21 76\n",
            "22 98\n",
            "23 121\n",
            "24 145\n",
            "25 170\n",
            "26 196\n",
            "27 223\n",
            "28 251\n",
            "29 280\n",
            "30 310\n"
          ],
          "name": "stdout"
        }
      ]
    }
  ]
}