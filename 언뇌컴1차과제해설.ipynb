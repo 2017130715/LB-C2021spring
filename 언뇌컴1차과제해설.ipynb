{
  "nbformat": 4,
  "nbformat_minor": 0,
  "metadata": {
    "colab": {
      "name": "언뇌컴1차과제해설.ipynb",
      "provenance": [],
      "collapsed_sections": [],
      "authorship_tag": "ABX9TyMqvK1LDkw0OHCr/ItRVemO",
      "include_colab_link": true
    },
    "kernelspec": {
      "name": "python3",
      "display_name": "Python 3"
    },
    "language_info": {
      "name": "python"
    }
  },
  "cells": [
    {
      "cell_type": "markdown",
      "metadata": {
        "id": "view-in-github",
        "colab_type": "text"
      },
      "source": [
        "<a href=\"https://colab.research.google.com/github/2017130715/LB-C2021spring/blob/main/%EC%96%B8%EB%87%8C%EC%BB%B41%EC%B0%A8%EA%B3%BC%EC%A0%9C%ED%95%B4%EC%84%A4.ipynb\" target=\"_parent\"><img src=\"https://colab.research.google.com/assets/colab-badge.svg\" alt=\"Open In Colab\"/></a>"
      ]
    },
    {
      "cell_type": "code",
      "metadata": {
        "id": "d-YBZhuIK6s7"
      },
      "source": [
        "#1번\n",
        "import re\n",
        "a = open(file='Q1.txt').read()\n",
        "open('Out1.txt', 'w').writelines(re.findall('^Juliet[.]\\n(.+?\\n)\\n', a, flags=re.M|re.I|re.S))\n",
        "#re.findall('JULIET[.]\\n(\\w\\W)+?\\n)\\n', a)"
      ],
      "execution_count": null,
      "outputs": []
    },
    {
      "cell_type": "code",
      "metadata": {
        "id": "QNNovjtWK687"
      },
      "source": [
        "#2번\n",
        "b = open(file='Q2.txt').read()\n",
        "print('대문자개수:', len(re.findall('[A-Z], b')), '\\n소문자개수:', len(re.findall('[a-z], b')), '\\n문장부호개수', len(re.findall('[^\\s\\w], b')))"
      ],
      "execution_count": null,
      "outputs": []
    },
    {
      "cell_type": "code",
      "metadata": {
        "id": "9eS-P-rUK7U7"
      },
      "source": [
        "#3번-1\n",
        "open('Out3+1.txt', 'w').write(re.sub('\\\\B[^\\w\\s]+|[^\\w\\s]+\\\\B', '', open(file='Q2.txt').read()))"
      ],
      "execution_count": null,
      "outputs": []
    },
    {
      "cell_type": "code",
      "metadata": {
        "id": "BAPTGOSBK8rW"
      },
      "source": [
        "#3번-2\n",
        "lines = []\n",
        "for i in open(file='Q2.txt').readlines():\n",
        "  line = []\n",
        "  for j in i.split(' '):\n",
        "    line += [re.sub('^[^\\w]+|[^\\w\\n]+$', '', j)]\n",
        "  lines += [' '.join(line)]\n",
        "open('Out3.txt', 'w').writelines(lines)"
      ],
      "execution_count": null,
      "outputs": []
    },
    {
      "cell_type": "code",
      "metadata": {
        "id": "rvtnMdEuO0EM"
      },
      "source": [
        "#4번\n",
        "d = open('Out4.txt', 'w')\n",
        "for i in re.findall('(([^\\s]+)ing)\\s', open(file='Q4.txt').read()):\n",
        "  d.write('\\t'.join(i)+'\\n')\n",
        "d.close()"
      ],
      "execution_count": null,
      "outputs": []
    }
  ]
}