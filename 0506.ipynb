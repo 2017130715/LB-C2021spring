{
  "nbformat": 4,
  "nbformat_minor": 0,
  "metadata": {
    "colab": {
      "name": "0506.ipynb",
      "provenance": [],
      "collapsed_sections": [],
      "authorship_tag": "ABX9TyPI+ATFTBJnN8LY1J/q9LUV",
      "include_colab_link": true
    },
    "kernelspec": {
      "name": "python3",
      "display_name": "Python 3"
    },
    "language_info": {
      "name": "python"
    }
  },
  "cells": [
    {
      "cell_type": "markdown",
      "metadata": {
        "id": "view-in-github",
        "colab_type": "text"
      },
      "source": [
        "<a href=\"https://colab.research.google.com/github/2017130715/LB-C2021spring/blob/main/0506.ipynb\" target=\"_parent\"><img src=\"https://colab.research.google.com/assets/colab-badge.svg\" alt=\"Open In Colab\"/></a>"
      ]
    },
    {
      "cell_type": "markdown",
      "metadata": {
        "id": "qSbQ5b6_f9u1"
      },
      "source": [
        "연습문제 1"
      ]
    },
    {
      "cell_type": "code",
      "metadata": {
        "colab": {
          "base_uri": "https://localhost:8080/"
        },
        "id": "6HFz0LvHYcUw",
        "outputId": "bd7d18ac-f4f8-48c2-a936-a7a2b4556b94"
      },
      "source": [
        "import re\n",
        "a = '''홍길동\\t123456-1234567\n",
        "김영희\\t0123450123456\n",
        "'''\n",
        "for x, y in re.findall('(\\d{6})[-]?(\\d{7})', a):\n",
        "  print(x+'-'+y)"
      ],
      "execution_count": 23,
      "outputs": [
        {
          "output_type": "stream",
          "text": [
            "123456-1234567\n",
            "012345-0123456\n"
          ],
          "name": "stdout"
        }
      ]
    },
    {
      "cell_type": "code",
      "metadata": {
        "colab": {
          "base_uri": "https://localhost:8080/"
        },
        "id": "jTsesDaldPX6",
        "outputId": "fadbf145-80bb-44d0-ab14-ba672e922eb6"
      },
      "source": [
        "re.split('(\\W)+', '\\t\\n123..abc..\\n\\n\\n')"
      ],
      "execution_count": 24,
      "outputs": [
        {
          "output_type": "execute_result",
          "data": {
            "text/plain": [
              "['', '\\n', '123', '.', 'abc', '\\n', '']"
            ]
          },
          "metadata": {
            "tags": []
          },
          "execution_count": 24
        }
      ]
    },
    {
      "cell_type": "code",
      "metadata": {
        "colab": {
          "base_uri": "https://localhost:8080/"
        },
        "id": "E3QLt50Zdbgf",
        "outputId": "6d032256-eb36-43b6-edc0-731b31395b0d"
      },
      "source": [
        "re.split('\\W+(\\w+)', '\\t\\n123..abc..\\n\\n\\n')"
      ],
      "execution_count": 25,
      "outputs": [
        {
          "output_type": "execute_result",
          "data": {
            "text/plain": [
              "['', '123', '', 'abc', '..\\n\\n\\n']"
            ]
          },
          "metadata": {
            "tags": []
          },
          "execution_count": 25
        }
      ]
    },
    {
      "cell_type": "code",
      "metadata": {
        "colab": {
          "base_uri": "https://localhost:8080/"
        },
        "id": "uFTFUYihdbpm",
        "outputId": "9df74162-1a07-4066-bc59-063d39c38797"
      },
      "source": [
        "re.split('\\W+(\\w+)', '\\t\\n123..abc..\\n\\n\\n', 1)"
      ],
      "execution_count": 26,
      "outputs": [
        {
          "output_type": "execute_result",
          "data": {
            "text/plain": [
              "['', '123', '..abc..\\n\\n\\n']"
            ]
          },
          "metadata": {
            "tags": []
          },
          "execution_count": 26
        }
      ]
    },
    {
      "cell_type": "code",
      "metadata": {
        "id": "SYqVtEPpdbvX"
      },
      "source": [
        ""
      ],
      "execution_count": null,
      "outputs": []
    },
    {
      "cell_type": "markdown",
      "metadata": {
        "id": "1B9vQYyFgBh1"
      },
      "source": [
        "연습문제 2"
      ]
    },
    {
      "cell_type": "code",
      "metadata": {
        "colab": {
          "base_uri": "https://localhost:8080/"
        },
        "id": "uiM4DjKLgCj9",
        "outputId": "7c60e85e-bd82-4e37-d590-8eb5fe9fc42b"
      },
      "source": [
        "w = 'unfortunately impossible return'\n",
        "print('\\n'.join(re.split('(..(\\w+))\\W*', w)))"
      ],
      "execution_count": 40,
      "outputs": [
        {
          "output_type": "stream",
          "text": [
            "\n",
            "unfortunately\n",
            "fortunately\n",
            "\n",
            "impossible\n",
            "possible\n",
            "\n",
            "return\n",
            "turn\n",
            "\n"
          ],
          "name": "stdout"
        }
      ]
    },
    {
      "cell_type": "code",
      "metadata": {
        "colab": {
          "base_uri": "https://localhost:8080/"
        },
        "id": "8zuPuJvXihwX",
        "outputId": "5c31d871-fb2c-457b-95cd-5a4e4e5fc005"
      },
      "source": [
        "re.split('(..(\\w+))\\W*', w)"
      ],
      "execution_count": 41,
      "outputs": [
        {
          "output_type": "execute_result",
          "data": {
            "text/plain": [
              "['',\n",
              " 'unfortunately',\n",
              " 'fortunately',\n",
              " '',\n",
              " 'impossible',\n",
              " 'possible',\n",
              " '',\n",
              " 'return',\n",
              " 'turn',\n",
              " '']"
            ]
          },
          "metadata": {
            "tags": []
          },
          "execution_count": 41
        }
      ]
    },
    {
      "cell_type": "code",
      "metadata": {
        "colab": {
          "base_uri": "https://localhost:8080/"
        },
        "id": "wn9MrkrJjGkM",
        "outputId": "74e1e2eb-5685-4e1c-9739-7cd905da03e2"
      },
      "source": [
        "for x, y in re.findall('(..(\\w+))\\W*', w):\n",
        "  print(x+'\\n'+y+'\\n')"
      ],
      "execution_count": 42,
      "outputs": [
        {
          "output_type": "stream",
          "text": [
            "unfortunately\n",
            "fortunately\n",
            "\n",
            "impossible\n",
            "possible\n",
            "\n",
            "return\n",
            "turn\n",
            "\n"
          ],
          "name": "stdout"
        }
      ]
    },
    {
      "cell_type": "markdown",
      "metadata": {
        "id": "ZhwMMr4knjYD"
      },
      "source": [
        "연습문제 3"
      ]
    },
    {
      "cell_type": "code",
      "metadata": {
        "colab": {
          "base_uri": "https://localhost:8080/"
        },
        "id": "f4CLp7aqnkS9",
        "outputId": "ed1b9621-50c1-4991-e201-d0c91ac6967f"
      },
      "source": [
        "a = '''회원 명단입니다.\n",
        "Donald Trump\\t\\tTrump.python@python.ac.kr\n",
        "Barack Obama obama@python.org\n",
        "이상입니다.\n",
        "'''\n",
        "p = re.compile('(\\S+@\\S+)')\n",
        "print('\\n'.join(p.findall(a)))"
      ],
      "execution_count": 45,
      "outputs": [
        {
          "output_type": "stream",
          "text": [
            "Trump.python@python.ac.kr\n",
            "obama@python.org\n"
          ],
          "name": "stdout"
        }
      ]
    }
  ]
}