{
  "nbformat": 4,
  "nbformat_minor": 0,
  "metadata": {
    "colab": {
      "name": "0415.ipynb",
      "provenance": [],
      "authorship_tag": "ABX9TyOyDAjGqGFInzsKUvHAQ0S8",
      "include_colab_link": true
    },
    "kernelspec": {
      "name": "python3",
      "display_name": "Python 3"
    },
    "language_info": {
      "name": "python"
    }
  },
  "cells": [
    {
      "cell_type": "markdown",
      "metadata": {
        "id": "view-in-github",
        "colab_type": "text"
      },
      "source": [
        "<a href=\"https://colab.research.google.com/github/2017130715/LB-C2021spring/blob/main/0415.ipynb\" target=\"_parent\"><img src=\"https://colab.research.google.com/assets/colab-badge.svg\" alt=\"Open In Colab\"/></a>"
      ]
    },
    {
      "cell_type": "markdown",
      "metadata": {
        "id": "la3n99WzRb7V"
      },
      "source": [
        "연습문제 4"
      ]
    },
    {
      "cell_type": "code",
      "metadata": {
        "id": "5TCDd8_dRYyB"
      },
      "source": [
        "a = open(\"02_data02.txt\", encoding = 'utf8').read().split()\n",
        "target = '고'\n",
        "for i in a:\n",
        "  if target in i:\n",
        "    print('\\t'.join([str(i.find(target)+1), str(len(i)), '\\t'.join(i.partition(target))]))"
      ],
      "execution_count": null,
      "outputs": []
    },
    {
      "cell_type": "code",
      "metadata": {
        "colab": {
          "base_uri": "https://localhost:8080/"
        },
        "id": "kD_KKhYZYLYA",
        "outputId": "a40a214e-d2d6-4cae-ee67-5b8527e26e0f"
      },
      "source": [
        "import re\n",
        "re.match('[0-9]', '1234')"
      ],
      "execution_count": 5,
      "outputs": [
        {
          "output_type": "execute_result",
          "data": {
            "text/plain": [
              "<re.Match object; span=(0, 1), match='1'>"
            ]
          },
          "metadata": {
            "tags": []
          },
          "execution_count": 5
        }
      ]
    },
    {
      "cell_type": "code",
      "metadata": {
        "colab": {
          "base_uri": "https://localhost:8080/"
        },
        "id": "L-3NDp2qYSYg",
        "outputId": "f7785849-72b3-4599-a8fb-4e56d682b80a"
      },
      "source": [
        "re.match('[0-9]', '3456')"
      ],
      "execution_count": 6,
      "outputs": [
        {
          "output_type": "execute_result",
          "data": {
            "text/plain": [
              "<re.Match object; span=(0, 1), match='3'>"
            ]
          },
          "metadata": {
            "tags": []
          },
          "execution_count": 6
        }
      ]
    },
    {
      "cell_type": "code",
      "metadata": {
        "colab": {
          "base_uri": "https://localhost:8080/"
        },
        "id": "Zrsr91gAYScv",
        "outputId": "f2aad680-e0d1-42ef-ab59-ddf24fbc1b45"
      },
      "source": [
        "re.match('[0-9]+', '3456')"
      ],
      "execution_count": 7,
      "outputs": [
        {
          "output_type": "execute_result",
          "data": {
            "text/plain": [
              "<re.Match object; span=(0, 4), match='3456'>"
            ]
          },
          "metadata": {
            "tags": []
          },
          "execution_count": 7
        }
      ]
    },
    {
      "cell_type": "code",
      "metadata": {
        "colab": {
          "base_uri": "https://localhost:8080/"
        },
        "id": "vGzl3LV6YSlf",
        "outputId": "d419bb29-f0af-4a9b-e54b-d7aaa6c95e06"
      },
      "source": [
        "re.match('345', '3456')"
      ],
      "execution_count": 8,
      "outputs": [
        {
          "output_type": "execute_result",
          "data": {
            "text/plain": [
              "<re.Match object; span=(0, 3), match='345'>"
            ]
          },
          "metadata": {
            "tags": []
          },
          "execution_count": 8
        }
      ]
    },
    {
      "cell_type": "code",
      "metadata": {
        "id": "tE_2255zYx5f"
      },
      "source": [
        "re.match('346', '3456')"
      ],
      "execution_count": 9,
      "outputs": []
    },
    {
      "cell_type": "code",
      "metadata": {
        "colab": {
          "base_uri": "https://localhost:8080/"
        },
        "id": "W9cHERmeYyAH",
        "outputId": "2bf24a1a-258d-42b1-f622-07934e738d18"
      },
      "source": [
        "re.match('[345]', '3456')"
      ],
      "execution_count": 11,
      "outputs": [
        {
          "output_type": "execute_result",
          "data": {
            "text/plain": [
              "<re.Match object; span=(0, 1), match='3'>"
            ]
          },
          "metadata": {
            "tags": []
          },
          "execution_count": 11
        }
      ]
    },
    {
      "cell_type": "code",
      "metadata": {
        "colab": {
          "base_uri": "https://localhost:8080/"
        },
        "id": "tYxuDiE2Y9DQ",
        "outputId": "9b8f32d1-48b7-4c35-95d8-68e921ba5a8f"
      },
      "source": [
        "re.match('[345]+', '3456')"
      ],
      "execution_count": 12,
      "outputs": [
        {
          "output_type": "execute_result",
          "data": {
            "text/plain": [
              "<re.Match object; span=(0, 3), match='345'>"
            ]
          },
          "metadata": {
            "tags": []
          },
          "execution_count": 12
        }
      ]
    },
    {
      "cell_type": "code",
      "metadata": {
        "colab": {
          "base_uri": "https://localhost:8080/"
        },
        "id": "wLChGlKsakee",
        "outputId": "559abe1b-91b0-4481-c2a8-812e0c19c28f"
      },
      "source": [
        "re.match('[0-9]?', '3456')"
      ],
      "execution_count": 14,
      "outputs": [
        {
          "output_type": "execute_result",
          "data": {
            "text/plain": [
              "<re.Match object; span=(0, 1), match='3'>"
            ]
          },
          "metadata": {
            "tags": []
          },
          "execution_count": 14
        }
      ]
    },
    {
      "cell_type": "code",
      "metadata": {
        "colab": {
          "base_uri": "https://localhost:8080/"
        },
        "id": "th-_U-jlasV3",
        "outputId": "60201fcc-4c25-4e7b-d080-a389e7dd4f4e"
      },
      "source": [
        "re.match('.', '3456')"
      ],
      "execution_count": 16,
      "outputs": [
        {
          "output_type": "execute_result",
          "data": {
            "text/plain": [
              "<re.Match object; span=(0, 1), match='3'>"
            ]
          },
          "metadata": {
            "tags": []
          },
          "execution_count": 16
        }
      ]
    },
    {
      "cell_type": "code",
      "metadata": {
        "colab": {
          "base_uri": "https://localhost:8080/"
        },
        "id": "8MEXIce-awOP",
        "outputId": "a2d357d7-e60b-4bc3-ca77-f3001f32034b"
      },
      "source": [
        "re.match('..', '3456')"
      ],
      "execution_count": 17,
      "outputs": [
        {
          "output_type": "execute_result",
          "data": {
            "text/plain": [
              "<re.Match object; span=(0, 2), match='34'>"
            ]
          },
          "metadata": {
            "tags": []
          },
          "execution_count": 17
        }
      ]
    },
    {
      "cell_type": "code",
      "metadata": {
        "colab": {
          "base_uri": "https://localhost:8080/"
        },
        "id": "acjQ6gQWazmX",
        "outputId": "07ce1b40-602f-4dd3-8a45-273da79abfc8"
      },
      "source": [
        "re.match('.+', '3456')"
      ],
      "execution_count": 18,
      "outputs": [
        {
          "output_type": "execute_result",
          "data": {
            "text/plain": [
              "<re.Match object; span=(0, 4), match='3456'>"
            ]
          },
          "metadata": {
            "tags": []
          },
          "execution_count": 18
        }
      ]
    },
    {
      "cell_type": "code",
      "metadata": {
        "colab": {
          "base_uri": "https://localhost:8080/"
        },
        "id": "1jIqlOmsbKEg",
        "outputId": "bbfa0fa1-5e70-47c6-977a-6764cc6d484d"
      },
      "source": [
        "re.match(' ?', '3456')"
      ],
      "execution_count": 19,
      "outputs": [
        {
          "output_type": "execute_result",
          "data": {
            "text/plain": [
              "<re.Match object; span=(0, 0), match=''>"
            ]
          },
          "metadata": {
            "tags": []
          },
          "execution_count": 19
        }
      ]
    },
    {
      "cell_type": "markdown",
      "metadata": {
        "id": "3NPhSNYFbM2Q"
      },
      "source": [
        "가장 길게 매치되는 문자열을 출력함."
      ]
    },
    {
      "cell_type": "code",
      "metadata": {
        "colab": {
          "base_uri": "https://localhost:8080/",
          "height": 35
        },
        "id": "TpunrK1Ydhhp",
        "outputId": "29b31232-e265-4fb9-aba3-c11247fadb7f"
      },
      "source": [
        "re.match('[0-9]+', '3456abc\\t\\n.+?*').group()"
      ],
      "execution_count": 20,
      "outputs": [
        {
          "output_type": "execute_result",
          "data": {
            "application/vnd.google.colaboratory.intrinsic+json": {
              "type": "string"
            },
            "text/plain": [
              "'3456'"
            ]
          },
          "metadata": {
            "tags": []
          },
          "execution_count": 20
        }
      ]
    },
    {
      "cell_type": "code",
      "metadata": {
        "colab": {
          "base_uri": "https://localhost:8080/",
          "height": 35
        },
        "id": "OppEqetqdsMM",
        "outputId": "9681d640-5ca2-4d1f-e14e-7672e5d39683"
      },
      "source": [
        "re.match('[0-9a-z]+', '3456abc\\t\\n.+?*').group()"
      ],
      "execution_count": 21,
      "outputs": [
        {
          "output_type": "execute_result",
          "data": {
            "application/vnd.google.colaboratory.intrinsic+json": {
              "type": "string"
            },
            "text/plain": [
              "'3456abc'"
            ]
          },
          "metadata": {
            "tags": []
          },
          "execution_count": 21
        }
      ]
    },
    {
      "cell_type": "code",
      "metadata": {
        "colab": {
          "base_uri": "https://localhost:8080/",
          "height": 35
        },
        "id": "mzq8lQ4lduZF",
        "outputId": "a1e9ad1e-08cc-49f4-a594-4d9a3831e9b2"
      },
      "source": [
        "re.match('[0-9a-z\\t\\n]+', '3456abc\\t\\n.+?*').group()"
      ],
      "execution_count": 22,
      "outputs": [
        {
          "output_type": "execute_result",
          "data": {
            "application/vnd.google.colaboratory.intrinsic+json": {
              "type": "string"
            },
            "text/plain": [
              "'3456abc\\t\\n'"
            ]
          },
          "metadata": {
            "tags": []
          },
          "execution_count": 22
        }
      ]
    },
    {
      "cell_type": "code",
      "metadata": {
        "colab": {
          "base_uri": "https://localhost:8080/",
          "height": 35
        },
        "id": "rZSlhWfQdxdF",
        "outputId": "4e696d97-0599-4134-b958-e671f7190d73"
      },
      "source": [
        "re.match('[0-9a-z\\t\\n.+?*]+', '3456abc\\t\\n.+?*').group()"
      ],
      "execution_count": 23,
      "outputs": [
        {
          "output_type": "execute_result",
          "data": {
            "application/vnd.google.colaboratory.intrinsic+json": {
              "type": "string"
            },
            "text/plain": [
              "'3456abc\\t\\n.+?*'"
            ]
          },
          "metadata": {
            "tags": []
          },
          "execution_count": 23
        }
      ]
    },
    {
      "cell_type": "code",
      "metadata": {
        "colab": {
          "base_uri": "https://localhost:8080/",
          "height": 35
        },
        "id": "YPDXfp3geXDE",
        "outputId": "a2557f83-7f66-49b7-c1a6-c6826663f53e"
      },
      "source": [
        "re.match('\\d+', '3456abc\\t\\n.+?*').group()"
      ],
      "execution_count": 25,
      "outputs": [
        {
          "output_type": "execute_result",
          "data": {
            "application/vnd.google.colaboratory.intrinsic+json": {
              "type": "string"
            },
            "text/plain": [
              "'3456'"
            ]
          },
          "metadata": {
            "tags": []
          },
          "execution_count": 25
        }
      ]
    }
  ]
}