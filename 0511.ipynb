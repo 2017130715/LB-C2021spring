{
  "nbformat": 4,
  "nbformat_minor": 0,
  "metadata": {
    "colab": {
      "name": "0511.ipynb",
      "provenance": [],
      "collapsed_sections": [],
      "authorship_tag": "ABX9TyOlO6SoRSQugN6C+owi1wFW",
      "include_colab_link": true
    },
    "kernelspec": {
      "name": "python3",
      "display_name": "Python 3"
    },
    "language_info": {
      "name": "python"
    }
  },
  "cells": [
    {
      "cell_type": "markdown",
      "metadata": {
        "id": "view-in-github",
        "colab_type": "text"
      },
      "source": [
        "<a href=\"https://colab.research.google.com/github/2017130715/LB-C2021spring/blob/main/0511.ipynb\" target=\"_parent\"><img src=\"https://colab.research.google.com/assets/colab-badge.svg\" alt=\"Open In Colab\"/></a>"
      ]
    },
    {
      "cell_type": "code",
      "metadata": {
        "id": "SEywzuUJMoxW"
      },
      "source": [
        "import re"
      ],
      "execution_count": 2,
      "outputs": []
    },
    {
      "cell_type": "code",
      "metadata": {
        "colab": {
          "base_uri": "https://localhost:8080/"
        },
        "id": "bMh8TgQ-MGco",
        "outputId": "3d7a0ca9-c71f-4ca5-e036-549b9ff3950f"
      },
      "source": [
        "a = '''회원 명단입니다.\n",
        "Donal Trump\\t\\tTrump.python@python.ac.kr\n",
        "Barack Obama obama@python.org\n",
        "이상입니다.\n",
        "'''\n",
        "print('\\n'.join(re.findall('[a-z.]+@[a-z@.]+', a, re.I))) # 20분"
      ],
      "execution_count": 8,
      "outputs": [
        {
          "output_type": "stream",
          "text": [
            "Trump.python@python.ac.kr\n",
            "obama@python.org\n"
          ],
          "name": "stdout"
        }
      ]
    },
    {
      "cell_type": "code",
      "metadata": {
        "colab": {
          "base_uri": "https://localhost:8080/"
        },
        "id": "kQANHHNGMvyk",
        "outputId": "05bc8dc6-26f6-434b-f9dc-4a321f038f25"
      },
      "source": [
        "s = 'Bigcorp\\'s 2007 bi-annual report showed profits rose 10%.'\n",
        "a = re.findall('[a-z]+[-]?[a-z]*|\\d+|[^\\w\\s][a-z]*', s.lower())\n",
        "print(a) # 35분"
      ],
      "execution_count": 11,
      "outputs": [
        {
          "output_type": "stream",
          "text": [
            "['bigcorp', \"'s\", '2007', 'bi-annual', 'report', 'showed', 'profits', 'rose', '10', '%', '.']\n"
          ],
          "name": "stdout"
        }
      ]
    },
    {
      "cell_type": "code",
      "metadata": {
        "colab": {
          "base_uri": "https://localhost:8080/"
        },
        "id": "WwdgIoQVStfi",
        "outputId": "7024d14c-1f85-443d-9e87-06963025eb21"
      },
      "source": [
        "def numeric(x):\n",
        "  if type(x) == int:\n",
        "    x = float(x)\n",
        "  elif type(x) == float:\n",
        "    x = int(x)\n",
        "  return x\n",
        "numeric([3])"
      ],
      "execution_count": 13,
      "outputs": [
        {
          "output_type": "execute_result",
          "data": {
            "text/plain": [
              "[3]"
            ]
          },
          "metadata": {
            "tags": []
          },
          "execution_count": 13
        }
      ]
    }
  ]
}