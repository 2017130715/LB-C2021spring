{
  "nbformat": 4,
  "nbformat_minor": 0,
  "metadata": {
    "colab": {
      "name": "0429.ipynb",
      "provenance": [],
      "authorship_tag": "ABX9TyNHyDsSpFhx40CTrZujhmlY",
      "include_colab_link": true
    },
    "kernelspec": {
      "name": "python3",
      "display_name": "Python 3"
    },
    "language_info": {
      "name": "python"
    }
  },
  "cells": [
    {
      "cell_type": "markdown",
      "metadata": {
        "id": "view-in-github",
        "colab_type": "text"
      },
      "source": [
        "<a href=\"https://colab.research.google.com/github/2017130715/LB-C2021spring/blob/main/0429.ipynb\" target=\"_parent\"><img src=\"https://colab.research.google.com/assets/colab-badge.svg\" alt=\"Open In Colab\"/></a>"
      ]
    },
    {
      "cell_type": "markdown",
      "metadata": {
        "id": "9w3ZvW7DdVal"
      },
      "source": [
        "연습문제 1"
      ]
    },
    {
      "cell_type": "code",
      "metadata": {
        "id": "yS1IMMfJdSH5"
      },
      "source": [
        "['', 'apple 오렌지(Orange) Cherry', '토마토(TOMATO) 1/3kg']\n",
        "['\\n', 'apple 오렌지(Orange) Cherry\\n', '토마토(TOMATO) 1/3kg']\n",
        "['', '\\n', 'apple 오렌지(Orange) Cherry\\n토마토(TOMATO) 1/3kg']"
      ],
      "execution_count": null,
      "outputs": []
    },
    {
      "cell_type": "markdown",
      "metadata": {
        "id": "9EdfSYurdxKL"
      },
      "source": [
        "연습문제 2"
      ]
    },
    {
      "cell_type": "code",
      "metadata": {
        "id": "QDN3nW0BdyW9"
      },
      "source": [
        "'\\n(.+)'\n",
        "'\\n(.+)\\n(.+)'\n",
        "'\\D+[(](.+)[)]\\D+[(](.+)[)]]'"
      ],
      "execution_count": null,
      "outputs": []
    }
  ]
}